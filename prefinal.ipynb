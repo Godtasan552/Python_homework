{
 "cells": [
  {
   "cell_type": "markdown",
   "id": "cf8d8fdf-562f-456f-8d6a-c8cde53f14d2",
   "metadata": {},
   "source": [
    "# ข้อสอบเก็บคะแนน\n",
    "## วิชาการเขียนโปรแกรมเชิงวัตถุ\n",
    "## ประจำภาคการศึกษา 2/2566\n",
    "\n",
    "### สอนโดย ผู้ช่วยศาสตราจารย์พิศาล สุขขี\n",
    "\n",
    "คำชี้แจง ข้อสอบแบ่งออกเป็น 2 ส่วน (รวม 20 คะแนน)\n",
    "\n",
    "ส่วนที่ 1 : ทดสอบความรู้ความเข้าใจพื้่นฐานการเขียนโปรแกรมภาษาไพธิน 5 ข้อ ข้อละ 2 คะแนน (รวม 10 คะแนน)\n",
    "\n",
    "ส่วนที่ 2 : ทดสอบการประยุกต์แก้ไขปัญหาโจทย์โปรแกรม 2 ข้อ ข้อละ 5 คะแนน (รวม 10 คะแนน)"
   ]
  },
  {
   "cell_type": "code",
   "execution_count": null,
   "id": "f64efe47-b057-44b8-8e37-3f3944d90a08",
   "metadata": {},
   "outputs": [],
   "source": [
    "\"\"\"\n",
    "นาย วีรวัฒน์ ธรรมมัง รหัส6612732127 \n",
    "\"\"\""
   ]
  },
  {
   "cell_type": "markdown",
   "id": "358450fe-fd91-4a16-8ad5-0ba911dadd5e",
   "metadata": {},
   "source": [
    "<hr>"
   ]
  },
  {
   "cell_type": "markdown",
   "id": "b2181e6a-5ade-4b0b-80ac-41e84325f9fc",
   "metadata": {},
   "source": [
    "# ส่วนที่ 1 ข้อละ 2 คะแนน"
   ]
  },
  {
   "cell_type": "markdown",
   "id": "6f8c1c6c-4fbe-4ad8-acb7-a8d25b65a450",
   "metadata": {},
   "source": [
    "### 1. โปรแกรมนี้ต้องการให้ผู้ใช้งานงานเลือกกรอกจำนวนใด ๆ เข้ามา เพื่อทายว่า ตัวเลขที่กรอกเข้ามาจะตรงกับตัวเลขที่ถูกเลือกไว้หรือไม่\n",
    "\n",
    "จงเติมโปรแกรมให้มีความสมบูรณ์"
   ]
  },
  {
   "cell_type": "code",
   "execution_count": null,
   "id": "79be3e47-0804-4afb-842a-129737e8986c",
   "metadata": {},
   "outputs": [],
   "source": [
    "\n",
    "1 1 1 1 1 \n",
    "2 2 2 2 \n",
    "3 3 3 \n",
    "4 4 \n",
    "5"
   ]
  },
  {
   "cell_type": "code",
   "execution_count": 1,
   "id": "fa9aea5e-a450-40e1-93bd-5840adf769d8",
   "metadata": {
    "tags": []
   },
   "outputs": [
    {
     "name": "stdin",
     "output_type": "stream",
     "text": [
      "เลขที่ทาย 1-10 คือ  3\n"
     ]
    },
    {
     "name": "stdout",
     "output_type": "stream",
     "text": [
      "คุณทายถูกแล้วค่ะ\n"
     ]
    }
   ],
   "source": [
    "# คำตอบ\n",
    "puzzle = 3 \n",
    "guess = int(input('เลขที่ทาย 1-10 คือ '))\n",
    "\n",
    "if guess == 3:\n",
    "    print('คุณทายถูกแล้วค่ะ')\n",
    "else:\n",
    "    print('คุณยังทายไม่ถูกค่ะ')"
   ]
  },
  {
   "cell_type": "markdown",
   "id": "38faf10a-74aa-4cc5-96a0-57f72771207e",
   "metadata": {},
   "source": [
    "## 2. จงเขียนโปรแกรมเพื่อรับค่าเข้ามาจาก keyboard แล้วตรวจสอบว่าค่าทีรับมานั้นเป็นจำนวนคู่หรือไม่\n",
    "\n",
    "ถ้่าเป็นจำนวนคู่ ให้แสดงผลออกทางหน้าจอว่า \"จำนวนคู่\"\n",
    "ถ้่าไม่เป็นจำนวนคู่ ให้แสดงผลออกทางหน้าจอว่า \"ไม่ใช่จำนวนคู่\""
   ]
  },
  {
   "cell_type": "code",
   "execution_count": 2,
   "id": "01e188b8-e7de-4029-9aa3-d3bd99c687d6",
   "metadata": {
    "tags": []
   },
   "outputs": [
    {
     "name": "stdin",
     "output_type": "stream",
     "text": [
      "Enter num 6\n"
     ]
    },
    {
     "name": "stdout",
     "output_type": "stream",
     "text": [
      "จำนวนคู่\n"
     ]
    }
   ],
   "source": [
    "# คำตอบ\n",
    "number = (int(input(\"Enter num\")))\n",
    "if number %2 ==0:\n",
    "    print(\"จำนวนคู่\")\n",
    "else:\n",
    "    print(\" จำนวนคี่\")"
   ]
  },
  {
   "cell_type": "markdown",
   "id": "65b7ce3b-28e0-4602-bc40-4a85f19a1e9c",
   "metadata": {},
   "source": [
    "## 3. จงเขียนโปรแกรมเพื่อรับค่าทาง keyboard แล้วตรวจสอบ ว่า\n",
    "\n",
    "- ถ้าหากจำนวนนั้นมีค่่าน้อยกว่า 10 ให้แจ้งว่า \"ค่าที่ท่านกรอก มีค่าน้อยกว่า 10\"\n",
    "- ถ้าหากจำนวนนั้นมีค่่าเท่ากับ 10 ให้แจ้งว่า \"ค่าที่ท่านกรอก มีค่าเท่ากับ 10\"\n",
    "- ถ้าหากจำนวนนั้นมีค่่ามากกว่า 10 ให้แจ้งว่า \"ค่าที่ท่านกรอก มีค่ามากกว่า 10\""
   ]
  },
  {
   "cell_type": "code",
   "execution_count": 3,
   "id": "0fe7fe4b-a04e-444d-90a4-1ca159440cb1",
   "metadata": {
    "tags": []
   },
   "outputs": [
    {
     "name": "stdin",
     "output_type": "stream",
     "text": [
      "Enter num 9\n"
     ]
    },
    {
     "name": "stdout",
     "output_type": "stream",
     "text": [
      "ค่าที่ท่านกรอก มีค่าน้อยกว่า 10\n"
     ]
    }
   ],
   "source": [
    "# คำตอบ\n",
    "number = int(input(\"Enter num\"))\n",
    "if number == 10:\n",
    "    print(\"ค่าที่ท่านกรอก มีค่าเท่ากับ 10\")\n",
    "elif number >10:\n",
    "    print(\"ค่าที่ท่านกรอก มีค่ามากกว่า 10\")\n",
    "else:\n",
    "    print(\"ค่าที่ท่านกรอก มีค่าน้อยกว่า 10\")\n"
   ]
  },
  {
   "cell_type": "markdown",
   "id": "f2bb3c11-460d-42e0-a4c6-410e031dc89f",
   "metadata": {},
   "source": [
    "## 4. ให้เขียนโปรแกรมเพื่อตรวจสอบว่ามีเลขใดบ้างในช่วง 1 ถึง 100 ที่หารด้วย 3 ลงตัว"
   ]
  },
  {
   "cell_type": "code",
   "execution_count": 5,
   "id": "9dbec0ab-5b56-4ae7-91e9-512ddecb469e",
   "metadata": {},
   "outputs": [
    {
     "name": "stdout",
     "output_type": "stream",
     "text": [
      "หาร3ลงตัวคือ :3\n",
      "หาร3ลงตัวคือ :6\n",
      "หาร3ลงตัวคือ :9\n",
      "หาร3ลงตัวคือ :12\n",
      "หาร3ลงตัวคือ :15\n",
      "หาร3ลงตัวคือ :18\n",
      "หาร3ลงตัวคือ :21\n",
      "หาร3ลงตัวคือ :24\n",
      "หาร3ลงตัวคือ :27\n",
      "หาร3ลงตัวคือ :30\n",
      "หาร3ลงตัวคือ :33\n",
      "หาร3ลงตัวคือ :36\n",
      "หาร3ลงตัวคือ :39\n",
      "หาร3ลงตัวคือ :42\n",
      "หาร3ลงตัวคือ :45\n",
      "หาร3ลงตัวคือ :48\n",
      "หาร3ลงตัวคือ :51\n",
      "หาร3ลงตัวคือ :54\n",
      "หาร3ลงตัวคือ :57\n",
      "หาร3ลงตัวคือ :60\n",
      "หาร3ลงตัวคือ :63\n",
      "หาร3ลงตัวคือ :66\n",
      "หาร3ลงตัวคือ :69\n",
      "หาร3ลงตัวคือ :72\n",
      "หาร3ลงตัวคือ :75\n",
      "หาร3ลงตัวคือ :78\n",
      "หาร3ลงตัวคือ :81\n",
      "หาร3ลงตัวคือ :84\n",
      "หาร3ลงตัวคือ :87\n",
      "หาร3ลงตัวคือ :90\n",
      "หาร3ลงตัวคือ :93\n",
      "หาร3ลงตัวคือ :96\n",
      "หาร3ลงตัวคือ :99\n"
     ]
    }
   ],
   "source": [
    "# คำตอบ\n",
    "for i in range(1,101):\n",
    "    if i % 3 ==0:\n",
    "        print(f\"หาร3ลงตัวคือ :{i}\")"
   ]
  },
  {
   "cell_type": "code",
   "execution_count": null,
   "id": "bb22eb47-7a51-45ba-a0fc-bf5e4821c979",
   "metadata": {
    "tags": []
   },
   "outputs": [],
   "source": []
  },
  {
   "cell_type": "markdown",
   "id": "008981d7-b535-46f2-a4eb-e44ff96af393",
   "metadata": {
    "tags": []
   },
   "source": [
    "## 5. จงเขียนโปรแกรมเพื่อรับค่าจาก kayboard เข้ามาเรื่อย ๆ และเก็บค่านั้นไว้ใน List จนกว่าผู้ใช้จะป้อน 'q'\n"
   ]
  },
  {
   "cell_type": "code",
   "execution_count": 7,
   "id": "ab73ce7c-116f-44ec-8be9-a6643cd8089b",
   "metadata": {},
   "outputs": [
    {
     "name": "stdin",
     "output_type": "stream",
     "text": [
      "Enter Kybord l\n"
     ]
    },
    {
     "name": "stdout",
     "output_type": "stream",
     "text": [
      "l\n"
     ]
    },
    {
     "name": "stdin",
     "output_type": "stream",
     "text": [
      "Enter Kybord j\n"
     ]
    },
    {
     "name": "stdout",
     "output_type": "stream",
     "text": [
      "j\n"
     ]
    },
    {
     "name": "stdin",
     "output_type": "stream",
     "text": [
      "Enter Kybord 5\n"
     ]
    },
    {
     "name": "stdout",
     "output_type": "stream",
     "text": [
      "5\n"
     ]
    },
    {
     "name": "stdin",
     "output_type": "stream",
     "text": [
      "Enter Kybord q\n"
     ]
    },
    {
     "name": "stdout",
     "output_type": "stream",
     "text": [
      "Exit\n"
     ]
    }
   ],
   "source": [
    "# คำตอบ\n",
    "finger = input(\"Enter Kybord\")\n",
    "while finger != 'q':\n",
    "    print(finger)\n",
    "    finger = input(\"Enter Kybord\")\n",
    "else:\n",
    "    print(\"Exit\")"
   ]
  },
  {
   "cell_type": "markdown",
   "id": "d4ed0cfb-9f00-4882-aa63-8f6d576bbdd6",
   "metadata": {},
   "source": [
    "<hr>"
   ]
  },
  {
   "cell_type": "markdown",
   "id": "d7ae6696-874c-44a1-9067-c8e339df4246",
   "metadata": {},
   "source": [
    "# ส่วนที่ 2 ข้อละ 5 คะแนน"
   ]
  },
  {
   "cell_type": "markdown",
   "id": "bb278ca2-30bf-45ae-9d24-9f1807c0d1fb",
   "metadata": {},
   "source": [
    "## 6. จงเขียนโปรแกรมเพื่อให้แสดงในรูปแบบดังต่อไปนี้"
   ]
  },
  {
   "cell_type": "code",
   "execution_count": null,
   "id": "ea341ede-ee01-4c71-a6aa-b7557a580952",
   "metadata": {},
   "outputs": [],
   "source": [
    "'''\n",
    "1 1 1 1 1 \n",
    "2 2 2 2 \n",
    "3 3 3 \n",
    "4 4 \n",
    "5\n",
    "'''"
   ]
  },
  {
   "cell_type": "code",
   "execution_count": 54,
   "id": "0acea4c1-9fe3-4a7a-8cb5-fd2e94e193b4",
   "metadata": {
    "tags": []
   },
   "outputs": [
    {
     "name": "stdout",
     "output_type": "stream",
     "text": [
      "1 1 1 1 1 \n",
      "2 2 2 2 \n",
      "3 3 3 \n",
      "4 4 \n",
      "5 \n"
     ]
    }
   ],
   "source": [
    "mush = 0\n",
    "for i in range (5,0,-1):\n",
    "    mush +=1\n",
    "    for j in range(1,i+1):\n",
    "        print(mush,end=\" \")\n",
    "    print(\"\")"
   ]
  },
  {
   "cell_type": "markdown",
   "id": "2d3e9f69-b89e-430b-a310-c443bf95f659",
   "metadata": {},
   "source": [
    "## 7. จงเขียนโปรแกรมเพื่อให้แสดงในรูปแบบดังต่อไปนี้"
   ]
  },
  {
   "cell_type": "code",
   "execution_count": null,
   "id": "eafb188c-e33d-46c9-a403-c97c16c066ca",
   "metadata": {},
   "outputs": [],
   "source": [
    "'''\n",
    "1 \n",
    "1 2 \n",
    "1 2 3 \n",
    "1 2 3 4 \n",
    "1 2 3 4 5\n",
    "'''"
   ]
  },
  {
   "cell_type": "code",
   "execution_count": 31,
   "id": "07acb60a-a82d-4b51-8589-28caab76afc6",
   "metadata": {},
   "outputs": [
    {
     "name": "stdout",
     "output_type": "stream",
     "text": [
      "1 \n",
      "1 2 \n",
      "1 2 3 \n",
      "1 2 3 4 \n",
      "1 2 3 4 5 \n"
     ]
    }
   ],
   "source": [
    "# คำตอบ\n",
    "for i in range (1,6):\n",
    "    for j in range(1,i+1):\n",
    "        print(j,end=\" \")\n",
    "    print(\"\")\n",
    "    "
   ]
  },
  {
   "cell_type": "markdown",
   "id": "a68243aa-a5f9-43ba-bdac-8a6e584fa436",
   "metadata": {},
   "source": [
    "<hr>"
   ]
  },
  {
   "cell_type": "markdown",
   "id": "84e801c6-bb0e-4b5a-a792-5e7026806225",
   "metadata": {},
   "source": [
    "**ข้อให้ทุกคนโชคดีในการสอบ**<br>\n",
    "ผู้ช่วยศาสตราจารย์พิศาล สุขขี<br>\n",
    "สาขาวิทยาการคอมพิวเตอร์<br>\n",
    "มหาวิทยาลัยราชภัฏศรีสะเกษ"
   ]
  }
 ],
 "metadata": {
  "kernelspec": {
   "display_name": "Python 3 (ipykernel)",
   "language": "python",
   "name": "python3"
  },
  "language_info": {
   "codemirror_mode": {
    "name": "ipython",
    "version": 3
   },
   "file_extension": ".py",
   "mimetype": "text/x-python",
   "name": "python",
   "nbconvert_exporter": "python",
   "pygments_lexer": "ipython3",
   "version": "3.11.5"
  }
 },
 "nbformat": 4,
 "nbformat_minor": 5
}
