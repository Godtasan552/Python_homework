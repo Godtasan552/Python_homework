{
 "cells": [
  {
   "cell_type": "code",
   "execution_count": 1,
   "id": "9a8c76cb-66a7-497d-9eaa-76d33b081398",
   "metadata": {
    "tags": []
   },
   "outputs": [
    {
     "name": "stdout",
     "output_type": "stream",
     "text": [
      "นาย วีรวัฒน์ ธรรมมัง 6612732127\n"
     ]
    }
   ],
   "source": [
    "print(\"นาย วีรวัฒน์ ธรรมมัง 6612732127\")"
   ]
  },
  {
   "cell_type": "code",
   "execution_count": null,
   "id": "7a7daf73-20e3-42f0-ae8d-f8fcb23f83e5",
   "metadata": {},
   "outputs": [],
   "source": []
  }
 ],
 "metadata": {
  "kernelspec": {
   "display_name": "Python 3 (ipykernel)",
   "language": "python",
   "name": "python3"
  },
  "language_info": {
   "codemirror_mode": {
    "name": "ipython",
    "version": 3
   },
   "file_extension": ".py",
   "mimetype": "text/x-python",
   "name": "python",
   "nbconvert_exporter": "python",
   "pygments_lexer": "ipython3",
   "version": "3.11.5"
  }
 },
 "nbformat": 4,
 "nbformat_minor": 5
}
