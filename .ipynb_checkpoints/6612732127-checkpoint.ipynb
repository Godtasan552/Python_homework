{
 "cells": [
  {
   "cell_type": "code",
   "execution_count": null,
   "id": "59b2e020-94a6-4cc9-b67a-b807607fa381",
   "metadata": {},
   "outputs": [],
   "source": [
    "'''\n",
    "นาย วีรวัฒน์ ธรรมมัง 6612732127\n",
    "'''"
   ]
  },
  {
   "cell_type": "code",
   "execution_count": 25,
   "id": "672e4164-d875-49fb-963e-549fa36a83c5",
   "metadata": {
    "tags": []
   },
   "outputs": [
    {
     "name": "stdout",
     "output_type": "stream",
     "text": [
      "* \n",
      "* * \n",
      "* * * \n",
      "* * * * \n",
      "* * * * * \n"
     ]
    }
   ],
   "source": [
    "#ep1\n",
    "for i in range(0, 5):\n",
    "    for j in range(0, i+1):\n",
    "        print(\"*\", end=\" \")\n",
    "    print()"
   ]
  },
  {
   "cell_type": "code",
   "execution_count": 79,
   "id": "41f83bc7-d4b1-4064-a840-0d91b89f019d",
   "metadata": {
    "tags": []
   },
   "outputs": [
    {
     "name": "stdout",
     "output_type": "stream",
     "text": [
      "            \n",
      "           *\n",
      "         * *\n",
      "       * * *\n",
      "     * * * *\n",
      "   * * * * *\n"
     ]
    }
   ],
   "source": [
    "#ep2 \n",
    "for i in range(0, 6):\n",
    "    for j in range(6 - i):\n",
    "        print('  ', end='')\n",
    "    for j in range(i):\n",
    "        print(' *', end='')\n",
    "    print()\n"
   ]
  },
  {
   "cell_type": "code",
   "execution_count": 78,
   "id": "4648d5da-8f00-4be5-94c3-03163a132fbe",
   "metadata": {
    "tags": []
   },
   "outputs": [
    {
     "name": "stdout",
     "output_type": "stream",
     "text": [
      "* * * * * \n",
      "* * * * \n",
      "* * * \n",
      "* * \n",
      "* \n"
     ]
    }
   ],
   "source": [
    "#ep3\n",
    "for i in range(5, 0,-1):\n",
    "    for j in range(0, i):\n",
    "        print(\"*\",end=\" \")\n",
    "    print()\n",
    "    "
   ]
  },
  {
   "cell_type": "code",
   "execution_count": null,
   "id": "e6a22f3d-aa15-41bd-8821-3cab116fd829",
   "metadata": {},
   "outputs": [],
   "source": []
  }
 ],
 "metadata": {
  "kernelspec": {
   "display_name": "Python 3 (ipykernel)",
   "language": "python",
   "name": "python3"
  },
  "language_info": {
   "codemirror_mode": {
    "name": "ipython",
    "version": 3
   },
   "file_extension": ".py",
   "mimetype": "text/x-python",
   "name": "python",
   "nbconvert_exporter": "python",
   "pygments_lexer": "ipython3",
   "version": "3.11.5"
  }
 },
 "nbformat": 4,
 "nbformat_minor": 5
}
